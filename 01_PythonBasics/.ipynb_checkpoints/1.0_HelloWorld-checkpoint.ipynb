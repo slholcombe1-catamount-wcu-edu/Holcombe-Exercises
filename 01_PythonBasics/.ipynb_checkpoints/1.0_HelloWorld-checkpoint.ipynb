{
 "cells": [
  {
   "cell_type": "markdown",
   "metadata": {
    "slideshow": {
     "slide_type": "slide"
    }
   },
   "source": [
    "# \"Hello World\" in Python  \n",
    "The classic starting point for learning a new coding language and environment!  "
   ]
  },
  {
   "cell_type": "markdown",
   "metadata": {
    "slideshow": {
     "slide_type": "slide"
    }
   },
   "source": [
    "# Displaying values in Python:  *print()*"
   ]
  },
  {
   "cell_type": "code",
   "execution_count": null,
   "metadata": {
    "slideshow": {
     "slide_type": "fragment"
    }
   },
   "outputs": [],
   "source": [
    "# Display Hello World!  \n"
   ]
  },
  {
   "cell_type": "markdown",
   "metadata": {
    "slideshow": {
     "slide_type": "slide"
    }
   },
   "source": [
    "# Task 1: Display Hello Gallaxy and Hello Universe!  \n",
    "Add the code to display what is indicated in the comment at the top of the cells below:"
   ]
  },
  {
   "cell_type": "code",
   "execution_count": null,
   "metadata": {
    "slideshow": {
     "slide_type": "fragment"
    }
   },
   "outputs": [],
   "source": [
    "# Display Hello Gallaxy!\n",
    "\n"
   ]
  },
  {
   "cell_type": "code",
   "execution_count": null,
   "metadata": {
    "slideshow": {
     "slide_type": "fragment"
    }
   },
   "outputs": [],
   "source": [
    "# Display Hello Universe!\n",
    "\n"
   ]
  },
  {
   "cell_type": "markdown",
   "metadata": {
    "slideshow": {
     "slide_type": "slide"
    }
   },
   "source": [
    "# Task 1 Questions: \n",
    "1. What is a Jupyter Notebook Code Cell?\n",
    "2. What is a Jupyter Notebook Markdown Cell?  \n",
    "3. How do you create Comments in Python?  \n",
    "4. How do you display something in Python?  \n",
    "5. What is a Jupyter Notebook?"
   ]
  },
  {
   "cell_type": "code",
   "execution_count": null,
   "metadata": {
    "slideshow": {
     "slide_type": "fragment"
    }
   },
   "outputs": [],
   "source": [
    "# Display Hello Universe!\n",
    "print (\"Hello Universe!\")"
   ]
  },
  {
   "cell_type": "markdown",
   "metadata": {
    "slideshow": {
     "slide_type": "fragment"
    }
   },
   "source": [
    "### Good stuff!"
   ]
  },
  {
   "cell_type": "markdown",
   "metadata": {
    "slideshow": {
     "slide_type": "slide"
    }
   },
   "source": [
    "# Task 2:  Create Your Own Display and Action Cells  \n",
    "Decide on some string you'd like to display and below do the following:  \n",
    "1. Create a Markdown Cell to describe what you're going to display  \n",
    "2. Add a Code cell with a comment describing what you're going to display  \n",
    "3. Beneath the comment, write the Python code to display it"
   ]
  },
  {
   "cell_type": "markdown",
   "metadata": {},
   "source": [
    "# Exercise 1.0:  Joining GitHub.com"
   ]
  },
  {
   "cell_type": "markdown",
   "metadata": {},
   "source": [
    "To get a GitHub account (which is free!), please do the following:\n",
    "Got to:  https://github.com\n",
    "\n",
    "Signup with a new GitHub username as shown below (and with more info below that):  \n",
    "![Creating a GitHub account](Images/1.0_JoiningGitHub.png)\n",
    "\n",
    "\n",
    "\n",
    "Important Notes:  \n",
    "1. Note that your username should be the same as your catamount email address, except that you replace the @ symbol and the dots with dashes.  \n",
    "2. So the example shown above could be for a John or Jane Doe.  \n",
    "  - Your Email should be your Catamount email address.  \n",
    "  - Your password should be whatever you'd like to make it.  \n",
    "  - It does not have to be the same as your catamount password and from a security point of view it probably shouldn't be the same.  \n",
    "3. **As soon as you get this done please email me and I'll add you to the GitHub Organization for our class. \n"
   ]
  },
  {
   "cell_type": "code",
   "execution_count": null,
   "metadata": {},
   "outputs": [],
   "source": []
  }
 ],
 "metadata": {
  "celltoolbar": "Slideshow",
  "kernelspec": {
   "display_name": "Python 3",
   "language": "python",
   "name": "python3"
  },
  "language_info": {
   "codemirror_mode": {
    "name": "ipython",
    "version": 3
   },
   "file_extension": ".py",
   "mimetype": "text/x-python",
   "name": "python",
   "nbconvert_exporter": "python",
   "pygments_lexer": "ipython3",
   "version": "3.6.4"
  }
 },
 "nbformat": 4,
 "nbformat_minor": 2
}
