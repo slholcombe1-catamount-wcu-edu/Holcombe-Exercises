{
 "cells": [
  {
   "cell_type": "markdown",
   "metadata": {},
   "source": [
    "# 1.2 Python Basics:  *If Statements*  \n",
    "- [Relational Operators](#Relational-Operators)  \n",
    "- [if Statement](#If-Statement) \n",
    "- [elif and else](#Elif-and-Else)  \n",
    "\n",
    "\n",
    "- [Tasks](#Tasks)\n",
    "- [Exercise 1.2](#Exercise-1.2)"
   ]
  },
  {
   "cell_type": "markdown",
   "metadata": {},
   "source": [
    "# Relational Operators"
   ]
  },
  {
   "cell_type": "markdown",
   "metadata": {},
   "source": [
    "| Symbol | Task Performed |\n",
    "|----|---|\n",
    "| == | True, if it is equal |\n",
    "| !=  | True, if not equal to |\n",
    "| < | less than |\n",
    "| > | greater than |\n",
    "| <=  | less than or equal to |\n",
    "| >=  | greater than or equal to |"
   ]
  },
  {
   "cell_type": "markdown",
   "metadata": {},
   "source": [
    "# If Statement \n",
    "**Enter the following code in the cell below and run:**  \n",
    "```Python\n",
    "numberToCheck = 15\n",
    "\n",
    "# Check if the number is greater than 10\n",
    "if numberToCheck > 10:\n",
    "    print(\"The number is greater than 10\")\n",
    "else:\n",
    "    print(\"That number is not greater than 10!\")\n",
    "```"
   ]
  },
  {
   "cell_type": "code",
   "execution_count": null,
   "metadata": {},
   "outputs": [],
   "source": []
  },
  {
   "cell_type": "markdown",
   "metadata": {},
   "source": [
    "# Elif and Else"
   ]
  },
  {
   "cell_type": "markdown",
   "metadata": {},
   "source": [
    "**Enter the following code in the cell below and run:**  \n",
    "```Python\n",
    "exam_score = 33\n",
    "\n",
    "if exam_score >= 90:\n",
    "    exam_grade = \"A\"\n",
    "elif exam_score >= 80:\n",
    "    exam_grade = \"B\"\n",
    "else:\n",
    "    exam_grade = \"unknown\"\n",
    "\n",
    "print(\"Your Exam Grade is:\", exam_grade)\n",
    "```"
   ]
  },
  {
   "cell_type": "code",
   "execution_count": null,
   "metadata": {},
   "outputs": [],
   "source": []
  },
  {
   "cell_type": "markdown",
   "metadata": {},
   "source": [
    "# Tasks"
   ]
  },
  {
   "cell_type": "markdown",
   "metadata": {},
   "source": [
    "### Negative or Postive Number?\n",
    "\n",
    "1. In the cell below, prompt the user for a number and then display whether it is a postive number or a negative number.  \n",
    "2. Assume the number is an integer"
   ]
  },
  {
   "cell_type": "code",
   "execution_count": null,
   "metadata": {},
   "outputs": [],
   "source": []
  },
  {
   "cell_type": "markdown",
   "metadata": {},
   "source": [
    "### Time of Day?  \n",
    "1. Declare a variable named time_24 and assign it a value of 11  \n",
    "2. Create an If Statement that use the following logic:  \n",
    "  - If the time is less than 12, display **Good Morning!**  \n",
    "  - If the time is less than 18, display **Good Afternoon!**  \n",
    "  - If the time is less than or equal to 24, display **Good Evening!**  \n",
    "  - Otherwise, display **Time must be between 0 and 24!**"
   ]
  },
  {
   "cell_type": "code",
   "execution_count": null,
   "metadata": {},
   "outputs": [],
   "source": [
    "time_24 = 11\n",
    "\n",
    "if time_24 < 12:\n",
    "    print(\"Good Morning!\")\n",
    "elif time_24 < 18:\n",
    "    print(\"Good Afternoon!\")\n",
    "elif time_24 <= 24:\n",
    "    print(\"Good Evening!\")\n",
    "else:\n",
    "    print(\"Time must be between 0 and 24!\")"
   ]
  },
  {
   "cell_type": "markdown",
   "metadata": {},
   "source": [
    "# Exercise 1.2  \n"
   ]
  },
  {
   "cell_type": "code",
   "execution_count": null,
   "metadata": {},
   "outputs": [],
   "source": [
    "weight = float(input(\"How many pounds does your luggage weigh? \"))\n",
    "\n",
    "if weight > 50:\n",
    "    print(\"There is a $25 surcharge for luggage that heavy.\")\n",
    "else:\n",
    "    print(\"There is no extra surcharge for your luggage!\")\n",
    "\n",
    "print(\"Thank you for your business.\")"
   ]
  },
  {
   "cell_type": "code",
   "execution_count": null,
   "metadata": {},
   "outputs": [],
   "source": [
    "exam_score = 89.9\n",
    "\n",
    "if exam_score >= 90:\n",
    "    exam_grade = \"A\"\n",
    "elif exam_score >= 80:\n",
    "    exam_grade = \"B\"\n",
    "elif exam_score >= 70:\n",
    "    exam_grade = \"C\"\n",
    "elif exam_score >= 60:\n",
    "    exam_grade = \"D\"\n",
    "else:\n",
    "    exam_grade = \"F\"\n",
    "\n",
    "print(\"Your Exam Grade is:\", exam_grade)"
   ]
  }
 ],
 "metadata": {
  "kernelspec": {
   "display_name": "Python 3",
   "language": "python",
   "name": "python3"
  },
  "language_info": {
   "codemirror_mode": {
    "name": "ipython",
    "version": 3
   },
   "file_extension": ".py",
   "mimetype": "text/x-python",
   "name": "python",
   "nbconvert_exporter": "python",
   "pygments_lexer": "ipython3",
   "version": "3.6.4"
  }
 },
 "nbformat": 4,
 "nbformat_minor": 2
}
