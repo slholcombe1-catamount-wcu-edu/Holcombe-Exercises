{
 "cells": [
  {
   "cell_type": "markdown",
   "metadata": {},
   "source": [
    "# 1.2 Python Basics:  *If Statements*  \n",
    "- [Relational Operators](#Relational-Operators)  \n",
    "- [if Statement](#If-Statement) \n",
    "- [elif and else](#Elif-and-Else)  \n",
    "\n",
    "\n",
    "- [Tasks](#Tasks)\n",
    "- [Exercise 1.2](#Exercise-1.2)"
   ]
  },
  {
   "cell_type": "markdown",
   "metadata": {},
   "source": [
    "# Relational Operators"
   ]
  },
  {
   "cell_type": "markdown",
   "metadata": {},
   "source": [
    "| Symbol | Task Performed |\n",
    "|----|---|\n",
    "| == | True, if it is equal |\n",
    "| !=  | True, if not equal to |\n",
    "| < | less than |\n",
    "| > | greater than |\n",
    "| <=  | less than or equal to |\n",
    "| >=  | greater than or equal to |"
   ]
  },
  {
   "cell_type": "markdown",
   "metadata": {},
   "source": [
    "# If Statement \n",
    "**Enter the following code in the cell below and run:**  \n",
    "```Python\n",
    "numberToCheck = 15\n",
    "\n",
    "# Check if the number is greater than 10\n",
    "if numberToCheck > 10:\n",
    "    print(\"The number is greater than 10\")\n",
    "else:\n",
    "    print(\"That number is not greater than 10!\")\n",
    "```"
   ]
  },
  {
   "cell_type": "code",
   "execution_count": null,
   "metadata": {},
   "outputs": [],
   "source": [
    "numberToCheck = 15\n",
    "\n",
    "# Check if the number is greater than 10\n",
    "if numberToCheck > 10:\n",
    "    print(\"The number is greater than 10\")\n",
    "else:\n",
    "    print(\"That number is not greater than 10!\")"
   ]
  },
  {
   "cell_type": "markdown",
   "metadata": {},
   "source": [
    "# Elif and Else"
   ]
  },
  {
   "cell_type": "markdown",
   "metadata": {},
   "source": [
    "**Enter the following code in the cell below and run:**  \n",
    "```Python\n",
    "exam_score = 33\n",
    "\n",
    "if exam_score >= 90:\n",
    "    exam_grade = \"A\"\n",
    "elif exam_score >= 80:\n",
    "    exam_grade = \"B\"\n",
    "else:\n",
    "    exam_grade = \"unknown\"\n",
    "\n",
    "print(\"Your Exam Grade is:\", exam_grade)\n",
    "```"
   ]
  },
  {
   "cell_type": "code",
   "execution_count": null,
   "metadata": {},
   "outputs": [],
   "source": [
    "exam_score = 33\n",
    "\n",
    "if exam_score >= 90:\n",
    "    exam_grade = \"A\"\n",
    "elif exam_score >= 80:\n",
    "    exam_grade = \"B\"\n",
    "else:\n",
    "    exam_grade = \"unknown\"\n",
    "\n",
    "print(\"Your Exam Grade is:\", exam_grade)"
   ]
  },
  {
   "cell_type": "markdown",
   "metadata": {},
   "source": [
    "# Tasks"
   ]
  },
  {
   "cell_type": "markdown",
   "metadata": {},
   "source": [
    "### Negative or Postive Number?\n",
    "\n",
    "1. In the cell below, prompt the user for a number and then display whether it is a postive number or a negative number.  \n",
    "2. Assume the number is an integer"
   ]
  },
  {
   "cell_type": "code",
   "execution_count": 3,
   "metadata": {},
   "outputs": [
    {
     "name": "stdout",
     "output_type": "stream",
     "text": [
      "Enter a number to determine if it is negative or positive\n",
      "7\n",
      "Your Number is  Positive\n"
     ]
    }
   ],
   "source": [
    "print(\"Enter a number to determine if it is negative or positive\")\n",
    "number_entered = int(input())\n",
    "if number_entered > 0:\n",
    "    number = \"Positive\"\n",
    "if number_entered < 0:\n",
    "    number = \"Negative\"\n",
    "print (\"Your Number is \", number)"
   ]
  },
  {
   "cell_type": "markdown",
   "metadata": {},
   "source": [
    "### Time of Day?  \n",
    "1. Declare a variable named time_24 and assign it a value of 11  \n",
    "2. Create an If Statement that use the following logic:  \n",
    "  - If the time is less than 12, display **Good Morning!**  \n",
    "  - If the time is less than 18, display **Good Afternoon!**  \n",
    "  - If the time is less than or equal to 24, display **Good Evening!**  \n",
    "  - Otherwise, display **Time must be between 0 and 24!**"
   ]
  },
  {
   "cell_type": "code",
   "execution_count": 10,
   "metadata": {},
   "outputs": [
    {
     "name": "stdout",
     "output_type": "stream",
     "text": [
      "Enter a time\n",
      "9\n",
      " Good Evening!\n"
     ]
    }
   ],
   "source": [
    "time_24 = 11\n",
    "print(\"Enter a time\")\n",
    "time = int(input())\n",
    "if time < 12:\n",
    "    display = \"Good Morning!\"\n",
    "if time < 18:\n",
    "    display = \"Good Afternoon!\"\n",
    "if time <=24:\n",
    "    display = \"Good Evening!\"\n",
    "else:\n",
    "    display = \"Time must be between 0 and 24!\"\n",
    "print(\"\",display)"
   ]
  },
  {
   "cell_type": "markdown",
   "metadata": {},
   "source": [
    "# Exercise 1.2  \n"
   ]
  },
  {
   "cell_type": "markdown",
   "metadata": {},
   "source": [
    "### Excess Luggage Fee Calculator  \n",
    "1. Declare a variable named **weight**  \n",
    "2. Prompt the user for their Luggage weight and assign that value to the weight variable  \n",
    "3. Create an if statement that does this:  \n",
    "    1. If the weight value is over 50.5 pounds, display \"There is a $25 surcharge for luggage that heavy.\"  \n",
    "    2. If not, display \"There is no extra surcharge for your luggage!\"  \n",
    "4. At the end, always display \"Thank you for your business!\""
   ]
  },
  {
   "cell_type": "code",
   "execution_count": 12,
   "metadata": {},
   "outputs": [
    {
     "name": "stdout",
     "output_type": "stream",
     "text": [
      "Enter your Luggage Weight\n",
      "643\n",
      "There is a $25 surcharge for luggage that heavy.   Thank you for your business!\n"
     ]
    }
   ],
   "source": [
    "weight = 0\n",
    "print(\"Enter your Luggage Weight\")\n",
    "weight = int(input())\n",
    "if weight > 50.5:\n",
    "    display = \"There is a $25 surcharge for luggage that heavy.\"\n",
    "else:\n",
    "    display = \"There is no extra surcharge for your luggage!\"\n",
    "thanks_display = \"Thank you for your business!\"\n",
    "print(display, \" \", thanks_display)"
   ]
  },
  {
   "cell_type": "markdown",
   "metadata": {},
   "source": [
    "### Letter Grad Calculator  \n",
    "1. Declare two variables:  **exam_score** and **exam_grade**  \n",
    "2. Prompt the user for their exam score and assign that value to the *exam_score* variable   \n",
    "3. Use an if statement to assign a letter grade to the *exam_grade* variable based on a 10 point scale:  90, 80, 70 and 60\n",
    "4. Then display \"Exam Grade is: \" and the value in the *exam_grade* variable"
   ]
  },
  {
   "cell_type": "code",
   "execution_count": 19,
   "metadata": {},
   "outputs": [
    {
     "name": "stdout",
     "output_type": "stream",
     "text": [
      "Enter your Exam Score\n",
      "66\n",
      "Exam Grade is:  D\n"
     ]
    }
   ],
   "source": [
    "exam_score = 0\n",
    "exam_grade = 0\n",
    "print(\"Enter your Exam Score\")\n",
    "exam_score = int(input())\n",
    "if exam_score > 90:\n",
    "    exam_grade = \"A\"\n",
    "elif exam_score > 80:\n",
    "    exam_grade = \"B\"\n",
    "elif  exam_score > 70:\n",
    "    exam_grade = \"C\"\n",
    "elif exam_score > 60:\n",
    "    exam_grade = \"D\"\n",
    "print(\"Exam Grade is: \",exam_grade)"
   ]
  },
  {
   "cell_type": "code",
   "execution_count": null,
   "metadata": {},
   "outputs": [],
   "source": []
  }
 ],
 "metadata": {
  "kernelspec": {
   "display_name": "Python 3",
   "language": "python",
   "name": "python3"
  },
  "language_info": {
   "codemirror_mode": {
    "name": "ipython",
    "version": 3
   },
   "file_extension": ".py",
   "mimetype": "text/x-python",
   "name": "python",
   "nbconvert_exporter": "python",
   "pygments_lexer": "ipython3",
   "version": "3.6.5"
  }
 },
 "nbformat": 4,
 "nbformat_minor": 2
}
