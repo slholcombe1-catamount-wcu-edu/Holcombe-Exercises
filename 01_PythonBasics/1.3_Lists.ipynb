{
 "cells": [
  {
   "cell_type": "markdown",
   "metadata": {},
   "source": [
    "# 1.3 Python *Lists*  \n",
    "\n",
    "- [Creating a List](#Creating-a-List)  \n",
    "- [List Indexes](#List-Indexes)\n",
    "- [Appending values to a List](#Appending-values-to-a-List)  \n",
    "- [Checking if a value is in a List](#Checking-if-a-value-is-in-a-List)  \n",
    "- [Sorting a List](#Sorting-a-List)  \n",
    "- [Formatting Dollar Amounts](#Formatting-Dollar-Amounts)\n",
    "  \n",
    "  \n",
    "[In Class: Quarterly Sales List ](#In-Class:-Quarterly-Sales-List )  \n",
    "[In Class: Sorting and Formatting](#In-Class:-Sorting-and-Formatting)  \n",
    "\n",
    "\n",
    "[Exercise 1.3](#Exercise-1.3)  "
   ]
  },
  {
   "cell_type": "markdown",
   "metadata": {},
   "source": [
    "# Python Lists  \n",
    "- A Variable contains a single value.  A List contains a collection of values.  \n",
    "- We will use Lists all the time when working with data.  \n",
    "- They are very similar to *Arrays* in Javascript.  \n",
    "![Mailbox](Images/ListMailbox.png)"
   ]
  },
  {
   "cell_type": "markdown",
   "metadata": {},
   "source": [
    "# Creating a List  "
   ]
  },
  {
   "cell_type": "code",
   "execution_count": null,
   "metadata": {},
   "outputs": [],
   "source": [
    "# Create a List named customer_names\n",
    "customer_names = [\"Janet Baker\", \n",
    "                  \"George Lee\", \n",
    "                  \"Sue Li\", \n",
    "                  \"Samuel Hoosier\", \n",
    "                  \"Sandra Weeks\", \n",
    "                  \"William Macy\", \n",
    "                  \"Andy Harrison\", \n",
    "                  \"Ken Ford\", \n",
    "                  \"Denny Franks\",\n",
    "                  \"Shawn James\"]\n",
    "\n",
    "print(customer_names)"
   ]
  },
  {
   "cell_type": "markdown",
   "metadata": {},
   "source": [
    "**Copy the following code into the code cell below and run it:**  \n",
    "```SAS\n",
    "exam_scores = [89, 93, 78, 92]\n",
    "\n",
    "print(exam_scores)\n",
    "```"
   ]
  },
  {
   "cell_type": "code",
   "execution_count": null,
   "metadata": {},
   "outputs": [],
   "source": [
    "# Create a List with test scores in it named exam_scores\n",
    "exam_scores = [89, 93, 78, 92]\n",
    "\n",
    "\n",
    "\n",
    "# Display it \n",
    "print(exam_scores)\n"
   ]
  },
  {
   "cell_type": "markdown",
   "metadata": {},
   "source": [
    "# List Indexes\n",
    "Lists are indexed like the Javascript Arrays you used in Cis 240:  starting with zero."
   ]
  },
  {
   "cell_type": "code",
   "execution_count": null,
   "metadata": {},
   "outputs": [],
   "source": [
    "print(customer_names)"
   ]
  },
  {
   "cell_type": "code",
   "execution_count": null,
   "metadata": {},
   "outputs": [],
   "source": [
    "# Display the first value in the customer_names List\n",
    "customer_names[0]"
   ]
  },
  {
   "cell_type": "code",
   "execution_count": null,
   "metadata": {},
   "outputs": [],
   "source": [
    "# Display the second value in the customer_names List\n"
   ]
  },
  {
   "cell_type": "code",
   "execution_count": null,
   "metadata": {},
   "outputs": [],
   "source": [
    "print(exam_scores)"
   ]
  },
  {
   "cell_type": "code",
   "execution_count": null,
   "metadata": {},
   "outputs": [],
   "source": [
    "# Display the first value in the exam_scores List\n"
   ]
  },
  {
   "cell_type": "markdown",
   "metadata": {},
   "source": [
    "# In Class: Quarterly Sales List  \n",
    "In the Code cells below, add the code needed to accomplish the following:\n",
    "\n",
    "1. Declare a List named quarterly_sales and fill it with the following values: 300000, 400000, 1300000, 500000  \n",
    "2. Display the filled List\n",
    "3. Display the first element of the List  \n",
    "4. Display the last element of the List  \n",
    "5. Sum the values in the List and display the sum\n",
    "6. Calculate the average of the values in the List and display it  \n",
    "7. Display annual sales as a formatted dollar value with zero decimal places \n",
    "8. Display average sales as a formatted dollar value with two decimal places and explanation text"
   ]
  },
  {
   "cell_type": "code",
   "execution_count": 1,
   "metadata": {},
   "outputs": [],
   "source": [
    "# 1. Declare a List named quarterly_sales and fill it with the following values: 300000, 400000, 1300000, 500000\n",
    "quarterly_sales = [300000,\n",
    "                  400000,\n",
    "                  1300000,\n",
    "                  50000]"
   ]
  },
  {
   "cell_type": "code",
   "execution_count": 2,
   "metadata": {},
   "outputs": [
    {
     "name": "stdout",
     "output_type": "stream",
     "text": [
      "[300000, 400000, 1300000, 50000]\n"
     ]
    }
   ],
   "source": [
    "# 2. Display the filled List\n",
    "print (quarterly_sales)"
   ]
  },
  {
   "cell_type": "code",
   "execution_count": 3,
   "metadata": {},
   "outputs": [
    {
     "data": {
      "text/plain": [
       "300000"
      ]
     },
     "execution_count": 3,
     "metadata": {},
     "output_type": "execute_result"
    }
   ],
   "source": [
    "# 3. Display the first element of the List\n",
    "quarterly_sales[0]"
   ]
  },
  {
   "cell_type": "code",
   "execution_count": 5,
   "metadata": {},
   "outputs": [
    {
     "data": {
      "text/plain": [
       "50000"
      ]
     },
     "execution_count": 5,
     "metadata": {},
     "output_type": "execute_result"
    }
   ],
   "source": [
    "# 4. Display the last element of the List\n",
    "\n",
    "quarterly_sales[3]\n"
   ]
  },
  {
   "cell_type": "code",
   "execution_count": 8,
   "metadata": {},
   "outputs": [
    {
     "name": "stdout",
     "output_type": "stream",
     "text": [
      "2050000\n"
     ]
    }
   ],
   "source": [
    "# 5. Sum the values in the quarterly_sales List and assign the value to a variable named annual_sales\n",
    "\n",
    "annual_sales = sum(quarterly_sales) \n",
    "\n",
    "# Display the annual_sales value\n",
    "print(annual_sales)"
   ]
  },
  {
   "cell_type": "code",
   "execution_count": 41,
   "metadata": {},
   "outputs": [
    {
     "name": "stdout",
     "output_type": "stream",
     "text": [
      "512500.0\n"
     ]
    }
   ],
   "source": [
    "# 6. Calculate the average sales and display the value\n",
    "average_sales = annual_sales / 4\n",
    "print(average_sales)\n"
   ]
  },
  {
   "cell_type": "markdown",
   "metadata": {},
   "source": [
    "# Appending values to a List"
   ]
  },
  {
   "cell_type": "code",
   "execution_count": 22,
   "metadata": {},
   "outputs": [
    {
     "name": "stdout",
     "output_type": "stream",
     "text": [
      "['Sawyer Holcombe', 'Dan Clapper', 'Anne Massey']\n"
     ]
    }
   ],
   "source": [
    "#Appending values to the customer_names List\n",
    "customer_names = [\"Sawyer Holcombe\"]\n",
    "customer_names.append(\"Dan Clapper\")\n",
    "customer_names.append(\"Anne Massey\")\n",
    "\n",
    "print(customer_names)"
   ]
  },
  {
   "cell_type": "markdown",
   "metadata": {},
   "source": [
    "# Checking if a value is in a List  \n",
    "- Use the *in* keyword \n",
    "- It will return True if it is in the List or False if it is not"
   ]
  },
  {
   "cell_type": "code",
   "execution_count": 23,
   "metadata": {},
   "outputs": [
    {
     "name": "stdout",
     "output_type": "stream",
     "text": [
      "['Sawyer Holcombe', 'Dan Clapper', 'Anne Massey']\n"
     ]
    }
   ],
   "source": [
    "print(customer_names)"
   ]
  },
  {
   "cell_type": "markdown",
   "metadata": {},
   "source": [
    "**Copy the following code into the code cell below and run it:**  \n",
    "```SAS\n",
    "is_in_list = 'Ken Ford' in customer_names\n",
    "\n",
    "print(is_in_list)\n",
    "```"
   ]
  },
  {
   "cell_type": "code",
   "execution_count": 24,
   "metadata": {},
   "outputs": [
    {
     "name": "stdout",
     "output_type": "stream",
     "text": [
      "False\n"
     ]
    }
   ],
   "source": [
    "# Check if value is in the List\n",
    "\n",
    "is_in_list = 'Ken Ford' in customer_names\n",
    "\n",
    "\n",
    "# Display result\n",
    "print(is_in_list)"
   ]
  },
  {
   "cell_type": "markdown",
   "metadata": {},
   "source": [
    "# Sorting a List"
   ]
  },
  {
   "cell_type": "markdown",
   "metadata": {},
   "source": [
    "### Sorting a List with String Values"
   ]
  },
  {
   "cell_type": "code",
   "execution_count": 25,
   "metadata": {},
   "outputs": [
    {
     "name": "stdout",
     "output_type": "stream",
     "text": [
      "List before Sorting:   ['Sawyer Holcombe', 'Dan Clapper', 'Anne Massey']\n"
     ]
    }
   ],
   "source": [
    "print(\"List before Sorting:  \", customer_names)"
   ]
  },
  {
   "cell_type": "code",
   "execution_count": 26,
   "metadata": {},
   "outputs": [
    {
     "name": "stdout",
     "output_type": "stream",
     "text": [
      "List AFTER Sorting:   ['Anne Massey', 'Dan Clapper', 'Sawyer Holcombe']\n"
     ]
    }
   ],
   "source": [
    "#Sorting a list (Ascending by default)\n",
    "customer_names.sort()\n",
    "\n",
    "print(\"List AFTER Sorting:  \", customer_names)"
   ]
  },
  {
   "cell_type": "code",
   "execution_count": 27,
   "metadata": {},
   "outputs": [
    {
     "name": "stdout",
     "output_type": "stream",
     "text": [
      "List AFTER Sorting - Descending :   ['Sawyer Holcombe', 'Dan Clapper', 'Anne Massey']\n"
     ]
    }
   ],
   "source": [
    "#Sorting a list: (Descending)\n",
    "customer_names.sort(reverse=True)\n",
    "\n",
    "print(\"List AFTER Sorting - Descending :  \", customer_names)"
   ]
  },
  {
   "cell_type": "markdown",
   "metadata": {},
   "source": [
    "### Sorting a List with Numeric Values  \n",
    "**Copy the following code into the code cell below and run it:**  \n",
    "```SAS\n",
    "full = [10.75, 20.0, 18.0, 11.25, 9.5]\n",
    "\n",
    "print(\"Unsorted List: \", full)\n",
    "\n",
    "full.sort()\n",
    "\n",
    "print(\"Sorted List:  \", full)\n",
    "\n",
    "full.sort(reverse=True)\n",
    "print(full)\n",
    "```"
   ]
  },
  {
   "cell_type": "code",
   "execution_count": 28,
   "metadata": {},
   "outputs": [
    {
     "name": "stdout",
     "output_type": "stream",
     "text": [
      "Unsorted List:  [10.75, 20.0, 18.0, 11.25, 9.5]\n",
      "Sorted List:   [9.5, 10.75, 11.25, 18.0, 20.0]\n",
      "[20.0, 18.0, 11.25, 10.75, 9.5]\n"
     ]
    }
   ],
   "source": [
    "# Create a list named full with numeric values to sort\n",
    "\n",
    "full = [10.75, 20.0, 18.0, 11.25, 9.5]\n",
    "# Display List\n",
    "print(\"Unsorted List: \", full)\n",
    "\n",
    "# Sort List in ascending order (default)\n",
    "full.sort()\n",
    "\n",
    "# Display sorted list\n",
    "\n",
    "print(\"Sorted List:  \", full)\n",
    "# Sort List in descending order then display\n",
    "full.sort(reverse=True)\n",
    "print(full)\n",
    "\n"
   ]
  },
  {
   "cell_type": "markdown",
   "metadata": {},
   "source": [
    "# Formatting Dollar Amounts"
   ]
  },
  {
   "cell_type": "code",
   "execution_count": 29,
   "metadata": {},
   "outputs": [
    {
     "name": "stdout",
     "output_type": "stream",
     "text": [
      "$80,000.00\n",
      "$80,000\n",
      "The value for monthly_sales is:  $80,000.00\n"
     ]
    }
   ],
   "source": [
    "salary = 80000\n",
    "\n",
    "# Display salar formatted as dollars - with two decimal places\n",
    "print('${:,.2f}'.format(salary))\n",
    "\n",
    "# Display salary formatted as dollars - with zero decimal places\n",
    "print('${:,.0f}'.format(salary))\n",
    "\n",
    "# Display with text\n",
    "print(\"The value for monthly_sales is: \", '${:,.2f}'.format(salary))"
   ]
  },
  {
   "cell_type": "markdown",
   "metadata": {},
   "source": [
    "# In Class: Sorting and Formatting"
   ]
  },
  {
   "cell_type": "markdown",
   "metadata": {},
   "source": [
    "### List of Car Names"
   ]
  },
  {
   "cell_type": "code",
   "execution_count": 32,
   "metadata": {},
   "outputs": [
    {
     "name": "stdout",
     "output_type": "stream",
     "text": [
      "List BEFORE sorting:  ['Chevrolet', 'Ford', 'Toyota', 'Honda', 'PontiacBMW']\n",
      "List AFTER sorting:  ['Chevrolet', 'Ford', 'Honda', 'PontiacBMW', 'Toyota']\n",
      "List AFTER Decending Sorting:  ['Toyota', 'PontiacBMW', 'Honda', 'Ford', 'Chevrolet']\n"
     ]
    }
   ],
   "source": [
    "# Create a List named car_names with the following values:  Chevrolet, Ford, Toyota, Honda, Pontiac, BMW\n",
    "car_names = [ \"Chevrolet\",\n",
    "            \"Ford\",\n",
    "            \"Toyota\",\n",
    "            \"Honda\",\n",
    "            \"Pontiac\"\n",
    "            \"BMW\"]\n",
    "\n",
    "# Display the List\n",
    "print (\"List BEFORE sorting: \", car_names)\n",
    "\n",
    "# Sort the list and display it\n",
    "car_names.sort()\n",
    "print(\"List AFTER sorting: \", car_names)\n",
    "\n",
    "# Sort the List (descending) and display it\n",
    "car_names.sort(reverse=True)\n",
    "print(\"List AFTER Decending Sorting: \", car_names)"
   ]
  },
  {
   "cell_type": "markdown",
   "metadata": {},
   "source": [
    "### List of Temperatures"
   ]
  },
  {
   "cell_type": "code",
   "execution_count": 35,
   "metadata": {},
   "outputs": [
    {
     "name": "stdout",
     "output_type": "stream",
     "text": [
      "[56, 67, 72, 84, 88, 70]\n"
     ]
    },
    {
     "data": {
      "text/plain": [
       "88"
      ]
     },
     "execution_count": 35,
     "metadata": {},
     "output_type": "execute_result"
    }
   ],
   "source": [
    "# Create a List named temps with the following values:  56, 67, 72, 84, 88, 70\n",
    "\n",
    "temps = [56,\n",
    "        67,\n",
    "        72,\n",
    "        84,\n",
    "        88,\n",
    "        70]\n",
    "# Display the List\n",
    "print(temps)\n",
    "\n",
    "\n",
    "# Write code to determine which value is the highest and display it\n",
    "temps.sort(reverse=True)\n",
    "temps[0]\n",
    "\n",
    "\n"
   ]
  },
  {
   "cell_type": "markdown",
   "metadata": {},
   "source": [
    "# Exercise 1.3  \n",
    "\n",
    "### Part 1: Monthly Sales\n",
    "1. In the cell below, declare a List named **monthly_sales** and fill it with the following values:  \n",
    "3,000  \n",
    "10,000  \n",
    "15,000  \n",
    "20,000  \n",
    "20,000  \n",
    "25,000  \n",
    "22,000  \n",
    "80,000  \n",
    "20,000  \n",
    "20,000  \n",
    "40,000  \n",
    "60,000  \n",
    "\n",
    "2. Display the filled List  \n",
    "3. Sum the values in the List and assign the value to a variable named *annual_sales*. Display this as a formatted dollar amount, with no decimal places\n",
    "4. Calculate the average and display it as a formatted dollar amount, with two decimal places.   \n",
    "5. Sort the List with the highest value first and display the sorted List\n",
    "\n",
    "\n",
    "Note:  I included commas above to make the values more readable, but don't include them in your List values in your code."
   ]
  },
  {
   "cell_type": "code",
   "execution_count": 37,
   "metadata": {},
   "outputs": [
    {
     "name": "stdout",
     "output_type": "stream",
     "text": [
      "[3000, 10000, 15000, 20000, 20000, 25000, 22000, 80000, 20000, 20000, 40000, 60000]\n"
     ]
    }
   ],
   "source": [
    "# 1. Create a List named monthly_sales\n",
    "monthly_sales = [3000,\n",
    "                10000,\n",
    "                15000,\n",
    "                20000,\n",
    "                20000,\n",
    "                25000,\n",
    "                22000,\n",
    "                80000,\n",
    "                20000,\n",
    "                20000,\n",
    "                40000,\n",
    "                60000]\n",
    "\n",
    "\n",
    "# 2. Display the filled List\n",
    "print(monthly_sales)"
   ]
  },
  {
   "cell_type": "code",
   "execution_count": null,
   "metadata": {},
   "outputs": [],
   "source": [
    "# 3. Sum the values in the List and assign the value to a variable named *annual_sales*. \n",
    "#   Display this as a formatted dollar amount, with no decimal places\n",
    "annual_sales = sum(monthly_sales)\n"
   ]
  },
  {
   "cell_type": "code",
   "execution_count": 45,
   "metadata": {},
   "outputs": [
    {
     "name": "stdout",
     "output_type": "stream",
     "text": [
      "$170,833.33\n"
     ]
    }
   ],
   "source": [
    "# 4. Calculate the average and display it as a formatted dollar amount, with two decimal places\n",
    "count = len(monthly_sales)\n",
    "average_sales = annual_sales / count\n",
    "print('${:,.2f}'.format(average_sales))\n"
   ]
  },
  {
   "cell_type": "code",
   "execution_count": 47,
   "metadata": {},
   "outputs": [
    {
     "name": "stdout",
     "output_type": "stream",
     "text": [
      "[80000, 60000, 40000, 25000, 22000, 20000, 20000, 20000, 20000, 15000, 10000, 3000]\n"
     ]
    }
   ],
   "source": [
    "# 5. Sort the monthly_sales list and display the highest value first in the List\n",
    "\n",
    "monthly_sales.sort(reverse=True)\n",
    "print(monthly_sales)"
   ]
  },
  {
   "cell_type": "markdown",
   "metadata": {},
   "source": [
    "### Part 2: if Statement to Check if Name is in the List  "
   ]
  },
  {
   "cell_type": "code",
   "execution_count": 58,
   "metadata": {
    "scrolled": true
   },
   "outputs": [
    {
     "name": "stdout",
     "output_type": "stream",
     "text": [
      "False\n",
      "That name IS NOT in the list!\n"
     ]
    }
   ],
   "source": [
    "# Hard-code a name that is NOT in the list\n",
    "name_list = [\"Sawyer Holcombe\",\n",
    "            \"John Hancock\"]\n",
    "name_to_check = 'John Dedamist'\n",
    "\n",
    "# Create an if statement to display whether it name_to_check value is in the List or not\n",
    "is_in_list = 'John Dedamist' in name_list\n",
    "print(is_in_list)\n",
    "\n",
    "\n",
    "# If it IS, display: That name IS in the List!\n",
    "if is_in_list == True:\n",
    "    print(\"That name IS in the List!\")\n",
    "# If it is NOT, display: That name IS NOT in the List\n",
    "if is_in_list == False:\n",
    "    print(\"That name IS NOT in the list!\")\n",
    "\n"
   ]
  },
  {
   "cell_type": "code",
   "execution_count": 59,
   "metadata": {},
   "outputs": [
    {
     "name": "stdout",
     "output_type": "stream",
     "text": [
      "True\n",
      "That name IS in the List!\n"
     ]
    }
   ],
   "source": [
    "# Hard-code a name that IS in the list\n",
    "name_list = [\"Sawyer Holcombe\",\n",
    "            \"John Hancock\",\n",
    "            \"Janet Baker\"]\n",
    "name_to_check = 'Janet Baker'\n",
    "\n",
    "# Use the same if statement from the preceding code cell:\n",
    "\n",
    "# Create an if statement to display whether it name_to_check value is in the List or not\n",
    "is_in_list = 'Janet Baker' in name_list\n",
    "print(is_in_list)\n",
    "\n",
    "\n",
    "# If it IS, display: That name IS in the List!\n",
    "if is_in_list == True:\n",
    "    print(\"That name IS in the List!\")\n",
    "# If it is NOT, display: That name IS NOT in the List\n",
    "if is_in_list == False:\n",
    "    print(\"That name IS NOT in the list!\")\n"
   ]
  },
  {
   "cell_type": "markdown",
   "metadata": {},
   "source": [
    "### Part 3: List of Favorite Fruits  \n"
   ]
  },
  {
   "cell_type": "code",
   "execution_count": 63,
   "metadata": {},
   "outputs": [
    {
     "name": "stdout",
     "output_type": "stream",
     "text": [
      "Please Enter a Fruit that You EnjoyBanana\n"
     ]
    }
   ],
   "source": [
    "# Prompt the user for a fruit that they like\n",
    "fruit = input(\"Please Enter a Fruit that You Enjoy\")\n"
   ]
  },
  {
   "cell_type": "code",
   "execution_count": 64,
   "metadata": {},
   "outputs": [
    {
     "name": "stdout",
     "output_type": "stream",
     "text": [
      "['Banana']\n"
     ]
    }
   ],
   "source": [
    "# Declare a list with this fruit as the first element\n",
    "fruit_list = [fruit]\n",
    "\n",
    "# Display the List of favorite fruits\n",
    "print(fruit_list)"
   ]
  },
  {
   "cell_type": "code",
   "execution_count": 65,
   "metadata": {},
   "outputs": [
    {
     "name": "stdout",
     "output_type": "stream",
     "text": [
      "Please Enter a Fruit that You EnjoyOranges\n"
     ]
    }
   ],
   "source": [
    "# Prompt user for a fruit that they like\n",
    "fruit_2 = input(\"Please Enter a Fruit that You Enjoy\")\n",
    "\n",
    "# Add that fruit to the List\n",
    "fruit_list.append(fruit_2)"
   ]
  },
  {
   "cell_type": "code",
   "execution_count": 66,
   "metadata": {},
   "outputs": [
    {
     "name": "stdout",
     "output_type": "stream",
     "text": [
      "['Banana', 'Oranges']\n"
     ]
    }
   ],
   "source": [
    "# Display the List of favorite fruits\n",
    "print(fruit_list)"
   ]
  },
  {
   "cell_type": "code",
   "execution_count": 69,
   "metadata": {},
   "outputs": [
    {
     "name": "stdout",
     "output_type": "stream",
     "text": [
      "['Banana', 'Oranges']\n"
     ]
    }
   ],
   "source": [
    "# Sort the List and display it\n",
    "fruit_list.sort()\n",
    "print(fruit_list)\n",
    "\n"
   ]
  },
  {
   "cell_type": "markdown",
   "metadata": {},
   "source": [
    "### Part 4: Adding new names to employee_names List  \n",
    "1. Create a List named employee_names, with just the following name in it:  *Serena James* \n",
    "2. Display the List\n",
    "3. Add the following names:  John Smith, Fred Martinez, Jane Miguel  \n",
    "4. Display the List"
   ]
  },
  {
   "cell_type": "code",
   "execution_count": 70,
   "metadata": {},
   "outputs": [],
   "source": [
    "# 1. Create a List named employee_names, with just the following name in it:  Serena James \n",
    "employee_names = [\"Serana James\"]"
   ]
  },
  {
   "cell_type": "code",
   "execution_count": 71,
   "metadata": {},
   "outputs": [
    {
     "name": "stdout",
     "output_type": "stream",
     "text": [
      "['Serana James']\n"
     ]
    }
   ],
   "source": [
    "# 2. Display the employee_names List\n",
    "print(employee_names)"
   ]
  },
  {
   "cell_type": "code",
   "execution_count": 72,
   "metadata": {},
   "outputs": [],
   "source": [
    "# 3. Add the following names:  John Smith, Fred Martinez, Jane Miguel \n",
    "employee_names.append(\"John Smith\")\n",
    "employee_names.append(\"Fred Martinez\")\n",
    "employee_names.append(\"Jane Miguel\")\n",
    "\n"
   ]
  },
  {
   "cell_type": "code",
   "execution_count": 73,
   "metadata": {},
   "outputs": [
    {
     "name": "stdout",
     "output_type": "stream",
     "text": [
      "['Serana James', 'John Smith', 'Fred Martinez', 'Jane Miguel']\n"
     ]
    }
   ],
   "source": [
    "# 4. Display the employee_names List\n",
    "print (employee_names)"
   ]
  },
  {
   "cell_type": "code",
   "execution_count": null,
   "metadata": {},
   "outputs": [],
   "source": []
  }
 ],
 "metadata": {
  "kernelspec": {
   "display_name": "Python 3",
   "language": "python",
   "name": "python3"
  },
  "language_info": {
   "codemirror_mode": {
    "name": "ipython",
    "version": 3
   },
   "file_extension": ".py",
   "mimetype": "text/x-python",
   "name": "python",
   "nbconvert_exporter": "python",
   "pygments_lexer": "ipython3",
   "version": "3.6.5"
  }
 },
 "nbformat": 4,
 "nbformat_minor": 2
}
