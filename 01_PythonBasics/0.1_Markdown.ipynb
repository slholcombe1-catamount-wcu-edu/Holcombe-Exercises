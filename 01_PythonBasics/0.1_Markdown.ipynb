{
 "cells": [
  {
   "cell_type": "markdown",
   "metadata": {
    "slideshow": {
     "slide_type": "slide"
    }
   },
   "source": [
    "# 0.1 Markdown Basics\n",
    "\n",
    "An introduction to the Markdown we will use the most often in this course.\n",
    " \n",
    "- [Headers](#Headers)  \n",
    "- [Emphasis: Bold and Italics](#Emphasis)  \n",
    "- [Lists](#Lists)\n",
    "  \n",
    "  \n",
    "[References](#References)"
   ]
  },
  {
   "cell_type": "markdown",
   "metadata": {},
   "source": [
    "# Headers  \n",
    "These are often used as section titles in your Jupyter Notebooks.  \n",
    "\n",
    "# Largest Header\n",
    "## 2nd Largest Header\n",
    "### 3rd Largest Header\n",
    "#### 4th Largest Header\n",
    "##### 5th Largest Header"
   ]
  },
  {
   "cell_type": "markdown",
   "metadata": {},
   "source": [
    "# Emphasis  \n",
    "The two main ways to emphasize we will use are Bold and Italics. \n",
    "\n",
    "**This text is Bolded** \n",
    "\n",
    "\n",
    "*This text is italized*"
   ]
  },
  {
   "cell_type": "markdown",
   "metadata": {},
   "source": [
    "# Lists  \n",
    "Unordered and Ordered(Numbered) are the two types of lists we use.  \n",
    "\n",
    "### Unordered List\n",
    "- The first item in an Unordered list  \n",
    "- The second item in an Unordered list  \n",
    "- The third item  \n",
    "- .....\n",
    "\n",
    "### Ordered List\n",
    "1. The first item in an Ordered list  \n",
    "2. The second item in an Ordered list  \n",
    "3. The third item  \n",
    "4. ....."
   ]
  },
  {
   "cell_type": "markdown",
   "metadata": {},
   "source": [
    "# References  \n",
    "- [Markdown Cheatsheet](https://github.com/adam-p/markdown-here/wiki/Markdown-Cheatsheet)"
   ]
  }
 ],
 "metadata": {
  "kernelspec": {
   "display_name": "SAS",
   "language": "sas",
   "name": "sas"
  },
  "language_info": {
   "codemirror_mode": "sas",
   "file_extension": ".sas",
   "mimetype": "text/x-sas",
   "name": "sas"
  }
 },
 "nbformat": 4,
 "nbformat_minor": 2
}
