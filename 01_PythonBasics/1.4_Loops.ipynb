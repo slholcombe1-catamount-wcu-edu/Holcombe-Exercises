{
 "cells": [
  {
   "cell_type": "markdown",
   "metadata": {},
   "source": [
    "# For Loops in Python  \n",
    "A For Loop is most often used by us iterating through a List.  As you will see below, a Python For Loop has different syntax than a Javascript For Loop and it is much easier to use successfully.\n",
    "\n",
    "- [Looping through a List of String Values](#Looping-through-a-List-of-String-Values)  \n",
    "- [Looping through a List of Numeric Values](#Looping-through-a-List-of-Numeric-Values) \n",
    "\n",
    "\n",
    "- [In Class](#In-Class)\n",
    "- [Exercise 1.4](#Exercise-1.4)"
   ]
  },
  {
   "cell_type": "markdown",
   "metadata": {},
   "source": [
    "# Looping through a List of String Values  \n",
    "\n",
    "**Enter the following code in the cell below and run:**  \n",
    "```Python\n",
    "customer_names = [\"Janet Baker\", \"George Lee\", \"Sue Li\", \"Samuel Hoosier\", \"Sandra Weeks\"]\n",
    "print(customer_names)\n",
    "\n",
    "for name in customer_names:\n",
    "    print(name)\n",
    "```"
   ]
  },
  {
   "cell_type": "code",
   "execution_count": null,
   "metadata": {},
   "outputs": [],
   "source": [
    "#Create a List named customer_names\n",
    "customer_names = [\"Janet Baker\", \"George Lee\", \"Sue Li\", \"Samuel Hoosier\", \"Sandra Weeks\"]\n",
    "print(customer_names)\n",
    "\n",
    "\n",
    "#Loop through the list and display all the names in it\n",
    "for name in customer_names:\n",
    "    print(name)"
   ]
  },
  {
   "cell_type": "markdown",
   "metadata": {},
   "source": [
    "# Looping through a List of Numeric Values  \n",
    "**Enter the following code in the cell below and run:**  \n",
    "```Python\n",
    "expenses = [100, 55, 255, 300]\n",
    "\n",
    "total_expenses = 0\n",
    "\n",
    "for expense in expenses:\n",
    "    total_expenses = total_expenses + expense\n",
    "    \n",
    "print(\"total_expenses = \", total_expenses)  \n",
    "```"
   ]
  },
  {
   "cell_type": "code",
   "execution_count": 5,
   "metadata": {},
   "outputs": [
    {
     "name": "stdout",
     "output_type": "stream",
     "text": [
      "total_expenses =  710\n"
     ]
    }
   ],
   "source": [
    "# Create a List named expenses\n",
    "expenses = [100, 55, 255, 300]\n",
    "\n",
    "# Intialize the summing variable\n",
    "total_expenses = 0\n",
    "\n",
    "# Loop through the list and sum the values\n",
    "for expense in expenses:\n",
    "    total_expenses = total_expenses + expense\n",
    "    \n",
    "# Display total expense\n",
    "print(\"total_expenses = \", total_expenses)  "
   ]
  },
  {
   "cell_type": "markdown",
   "metadata": {},
   "source": [
    "# In Class  "
   ]
  },
  {
   "cell_type": "markdown",
   "metadata": {},
   "source": [
    "### In Class:  quarterly sales"
   ]
  },
  {
   "cell_type": "code",
   "execution_count": 3,
   "metadata": {},
   "outputs": [
    {
     "name": "stdout",
     "output_type": "stream",
     "text": [
      "[300000, 400000, 1300000, 500000]\n"
     ]
    }
   ],
   "source": [
    "# Create a List named quarterly_sales and fill it with the following values:  300000, 400000, 1300000, 500000 \n",
    "quarterly_sales = [300000,\n",
    "                  400000,\n",
    "                  1300000,\n",
    "                  500000]\n",
    "# Display the List\n",
    "print (quarterly_sales)"
   ]
  },
  {
   "cell_type": "code",
   "execution_count": 6,
   "metadata": {},
   "outputs": [
    {
     "name": "stdout",
     "output_type": "stream",
     "text": [
      "annual_sales =  300000\n",
      "annual_sales =  700000\n",
      "annual_sales =  2000000\n",
      "annual_sales =  2500000\n"
     ]
    }
   ],
   "source": [
    "# Declare annual_sales variable and set it equal to zero\n",
    "annual_sales = 0\n",
    "\n",
    "#Loop through the list and sum the values: print the current annual_sales value every time through the loop\n",
    "\n",
    "for sales in quarterly_sales:\n",
    "    annual_sales = annual_sales + sales\n",
    "    print(\"annual_sales = \", annual_sales)  "
   ]
  },
  {
   "cell_type": "code",
   "execution_count": 7,
   "metadata": {},
   "outputs": [
    {
     "name": "stdout",
     "output_type": "stream",
     "text": [
      "$2,500,000.00\n"
     ]
    }
   ],
   "source": [
    "#Display the sum - formatted as dollar amount with zero decimal places\n",
    "print('${:,.2f}'.format(annual_sales))"
   ]
  },
  {
   "cell_type": "code",
   "execution_count": 9,
   "metadata": {},
   "outputs": [
    {
     "name": "stdout",
     "output_type": "stream",
     "text": [
      "625000.0\n"
     ]
    }
   ],
   "source": [
    "#Calculate the average of the values in the list\n",
    "average_sales = annual_sales / len(quarterly_sales)\n",
    "\n",
    "#Display the average - formatted as dollar amount with two decimal places\n",
    "print (average_sales)\n"
   ]
  },
  {
   "cell_type": "code",
   "execution_count": 10,
   "metadata": {},
   "outputs": [
    {
     "name": "stdout",
     "output_type": "stream",
     "text": [
      "[300000, 400000, 1300000, 500000]\n",
      "1300000\n"
     ]
    }
   ],
   "source": [
    "# Using looping, display the highest sales value in the quarterly_sales List\n",
    "\n",
    "\n",
    "# Intialize highest_value variable to zero\n",
    "highest_value = 0\n",
    "\n",
    "# Loop through the List and find the highest value\n",
    "for sales_value in quarterly_sales:\n",
    "    \n",
    "    if sales_value > highest_value:\n",
    "        highest_value = sales_value\n",
    "\n",
    "\n",
    "\n",
    "# Display the entire List\n",
    "print(quarterly_sales)\n",
    "\n",
    "# Display the highest value in the List\n",
    "print(highest_value)"
   ]
  },
  {
   "cell_type": "code",
   "execution_count": 11,
   "metadata": {},
   "outputs": [
    {
     "name": "stdout",
     "output_type": "stream",
     "text": [
      "[300000, 400000, 1300000, 500000]\n",
      "300000\n"
     ]
    }
   ],
   "source": [
    "# Using looping, display the lowest sales value in the List\n",
    "\n",
    "# Intialize the lowest value variable\n",
    "lowest_value = quarterly_sales[0]\n",
    "\n",
    "# Loop through the List and find the lowest value\n",
    "if sales_value < lowest_value:\n",
    "    lowest_value = sales_value\n",
    "\n",
    "\n",
    "\n",
    "# Display the entire List\n",
    "print(quarterly_sales)\n",
    "\n",
    "# Display the lowest value in the List\n",
    "print(lowest_value)"
   ]
  },
  {
   "cell_type": "markdown",
   "metadata": {},
   "source": [
    "### In Class Questions:  \n",
    "1. What are Lists?  \n",
    "2. If we have dollar amounts in a List, at what point have we been formatting them?  \n",
    "3. What is a Python For Loop?  \n",
    "4. How is a Python For Loop different from a Javascript For Loop?  \n",
    "5. How do the errors that you can do with a Javascript For Loop differen from the possible errors in a Python For Loop?\n"
   ]
  },
  {
   "cell_type": "markdown",
   "metadata": {},
   "source": [
    "# Exercise 1.4"
   ]
  },
  {
   "cell_type": "markdown",
   "metadata": {},
   "source": [
    "### Ex 1.4 - Part 1: Monthly Sales\n",
    "1. Create a List named **monthly_sales** and fill it with the following values:  \n",
    "3,000  \n",
    "10,000  \n",
    "15,000  \n",
    "20,000  \n",
    "20,000  \n",
    "25,000  \n",
    "22,000  \n",
    "80,000  \n",
    "20,000  \n",
    "20,000  \n",
    "40,000  \n",
    "60,000  \n",
    "Note:  I included commas above to make the values more readable.  Don't include them in your list values."
   ]
  },
  {
   "cell_type": "code",
   "execution_count": 12,
   "metadata": {},
   "outputs": [],
   "source": [
    "# Create a List named monthly_sales \n",
    "monthly_sales = [3000,\n",
    "                10000,\n",
    "                15000,\n",
    "                20000,\n",
    "                20000,\n",
    "                25000,\n",
    "                22000,\n",
    "                80000,\n",
    "                20000,\n",
    "                20000,\n",
    "                40000,\n",
    "                60000]"
   ]
  },
  {
   "cell_type": "code",
   "execution_count": 13,
   "metadata": {},
   "outputs": [
    {
     "name": "stdout",
     "output_type": "stream",
     "text": [
      "3000\n",
      "10000\n",
      "15000\n",
      "20000\n",
      "20000\n",
      "25000\n",
      "22000\n",
      "80000\n",
      "20000\n",
      "20000\n",
      "40000\n",
      "60000\n"
     ]
    }
   ],
   "source": [
    "#Loop through the monthly_sales List and display all of the values \n",
    "for sales in monthly_sales:\n",
    "    print (sales)"
   ]
  },
  {
   "cell_type": "code",
   "execution_count": 16,
   "metadata": {},
   "outputs": [
    {
     "name": "stdout",
     "output_type": "stream",
     "text": [
      "2835000\n"
     ]
    }
   ],
   "source": [
    "#Loop through the list and sum the values\n",
    "for sales in monthly_sales:\n",
    "    annual_sales = annual_sales + sales\n",
    "#Display the sum - formatted as dollar amounts with zero decimal places\n",
    "print(annual_sales)"
   ]
  },
  {
   "cell_type": "code",
   "execution_count": null,
   "metadata": {},
   "outputs": [],
   "source": [
    "#Calculate the average of the values in the list\n",
    "\n",
    "#Display the average - formatted as dollar amounts with zero decimal places\n"
   ]
  },
  {
   "cell_type": "code",
   "execution_count": null,
   "metadata": {},
   "outputs": [],
   "source": [
    "# The Monthly Sales quota is $20,000  \n",
    "# Display the number of months the sales rep has exceded this Sales Quota"
   ]
  },
  {
   "cell_type": "code",
   "execution_count": null,
   "metadata": {},
   "outputs": [],
   "source": [
    "# Using Looping, display the number of months the sales rep has Not exceded this Sales Quota"
   ]
  },
  {
   "cell_type": "code",
   "execution_count": null,
   "metadata": {},
   "outputs": [],
   "source": [
    "# Using Looping, display the total sum of the amount for the year the sales rep has exceded the Sales Quota"
   ]
  },
  {
   "cell_type": "markdown",
   "metadata": {},
   "source": [
    "### Ex 1.4 - Part 2:  Entertainment Expense Tracking\n",
    "1. Create a List named entertainment_expenses and fill it with the folllowing values: 90, 150, 200, 90, 85, 130\n",
    "2. You've decided that your target max for this category is $100 \n",
    "3. Loop through the List and display the number of months that you exceded your target  \n",
    "4. Loop through the List and display the total sum of how much you've exceded your target over these months     \n",
    "6. Loop through the List and display for every time you've exceded your target:  \n",
    "  2. The amount you exceded your target that month  \n",
    "  3. The running total of the sum of how much you've exceded your target by that point in the year.  \n",
    "  \n",
    "**Notes:**  \n",
    "- Each of the above top level numbered items should show up as a comment in its own code cell below.  \n",
    "- The second level numbered items should show up as comments within a cell"
   ]
  },
  {
   "cell_type": "code",
   "execution_count": null,
   "metadata": {},
   "outputs": [],
   "source": []
  }
 ],
 "metadata": {
  "kernelspec": {
   "display_name": "Python 3",
   "language": "python",
   "name": "python3"
  },
  "language_info": {
   "codemirror_mode": {
    "name": "ipython",
    "version": 3
   },
   "file_extension": ".py",
   "mimetype": "text/x-python",
   "name": "python",
   "nbconvert_exporter": "python",
   "pygments_lexer": "ipython3",
   "version": "3.6.5"
  }
 },
 "nbformat": 4,
 "nbformat_minor": 2
}
